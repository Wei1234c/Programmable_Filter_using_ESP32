{
 "cells": [
  {
   "cell_type": "markdown",
   "metadata": {},
   "source": [
    "# Programmable Filter test"
   ]
  },
  {
   "cell_type": "code",
   "execution_count": 1,
   "metadata": {},
   "outputs": [
    {
     "name": "stdout",
     "output_type": "stream",
     "text": [
      "10, 9, 8, 7, 6, 5, 4, 3, 2, 1, 10, "
     ]
    }
   ],
   "source": [
    "#include <iostream>\n",
    "#include <string>\n",
    "#include \"../../codes/CCDE_Filter.h\"\n",
    "\n",
    "\n",
    "int size = 11;\n",
    "CircularBuffer cb = CircularBuffer(10);\n",
    "for (int i = 0; i < size; ++i) {\n",
    "    cb.new_value(i);\n",
    "}\n",
    "\n",
    "for (int i = 0; i < size; ++i) {\n",
    "    std::cout << cb[i] << \", \"; \n",
    "}\n",
    "\n",
    "//\n",
    "//\n",
    "//int main() {\n",
    "////    double b[]{2};\n",
    "////    double a[]{2};\n",
    "////    int size_b = sizeof(b) / sizeof(double);\n",
    "////    int size_a = sizeof(a) / sizeof(double);\n",
    "//\n",
    "//    CCDE_Filter filter = CCDE_Filter();\n",
    "//    //CCDE_Filter filter = CCDE_Filter(b, size_b, a, size_a);\n",
    "//    //Distortion filter = Distortion(10, 5);\n",
    "//    //SimpleEcho filter = SimpleEcho(1, 0.75, 0.5, 0.3, 44100);\n",
    "////    NaturalEcho filter = NaturalEcho( 0.6,  0.7,  0.02, 44100);\n",
    "////    LeakyIntegrator filter = LeakyIntegrator( 0.6 );\n",
    "////    MovingAverage filter = MovingAverage(10);\n",
    "////    LeakyIntegrator filter = LeakyIntegrator(10);\n",
    "//\n",
    "//    double x[] = {2, 3, 4, 6};\n",
    "//    int size_x = sizeof(x) / sizeof(double);\n",
    "//    double *y = filter.filter(x, size_x);\n",
    "//    for (int i = 0; i < size_x; ++i) {\n",
    "//        std::cout <<  y[i]  <<  \", \";\n",
    "//    }\n",
    "//}"
   ]
  },
  {
   "cell_type": "code",
   "execution_count": null,
   "metadata": {},
   "outputs": [],
   "source": []
  }
 ],
 "metadata": {
  "kernelspec": {
   "display_name": "C++14",
   "language": "C++14",
   "name": "xeus-cling-cpp14"
  },
  "language_info": {
   "codemirror_mode": "text/x-c++src",
   "file_extension": ".cpp",
   "mimetype": "text/x-c++src",
   "name": "c++",
   "version": "-std=c++14"
  }
 },
 "nbformat": 4,
 "nbformat_minor": 2
}
